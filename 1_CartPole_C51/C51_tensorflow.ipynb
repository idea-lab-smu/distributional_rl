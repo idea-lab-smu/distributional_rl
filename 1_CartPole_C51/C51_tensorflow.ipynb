{
 "cells": [
  {
   "cell_type": "markdown",
   "metadata": {
    "colab_type": "text",
    "id": "8_i8u4vLlzG6"
   },
   "source": [
    "# A Distributional Perspective on Reinforcement Learning\n",
    "\n",
    " 이 jupyter notebook은 논문 [A Distributional Perspective on Reinforcement Learning](https://arxiv.org/abs/1707.06887)의 알고리즘 (C51)을 gym의 Cartpole 환경에서 구현한 notebook 입니다. 본 notebook의 경우 알고리즘의 구현에 관련된 설명 위주로 할 예정입니다. 논문의 이론 대한 더 자세한 내용은 readme를 참고해주세요!!"
   ]
  },
  {
   "cell_type": "markdown",
   "metadata": {
    "colab_type": "text",
    "id": "37C2iH4VlzG8"
   },
   "source": [
    "## 1. 라이브러리 불러오기\n",
    "\n",
    "본 알고리즘의 구현을 위한 라이브러리들을 불러오는 부분입니다. "
   ]
  },
  {
   "cell_type": "code",
   "execution_count": 0,
   "metadata": {
    "colab": {},
    "colab_type": "code",
    "id": "IWnm3qot3o1W"
   },
   "outputs": [],
   "source": [
    "import tensorflow as tf\n",
    "import gym\n",
    "import numpy as np\n",
    "import matplotlib.pyplot as plt\n",
    "import random\n",
    "from collections import deque\n",
    "from timeit import default_timer as timer\n",
    "from datetime import timedelta"
   ]
  },
  {
   "cell_type": "markdown",
   "metadata": {
    "colab_type": "text",
    "id": "_MKNTW4blzHC"
   },
   "source": [
    "## 2. 파라미터 설정\n",
    "\n",
    "알고리즘의 구현을 위한 파라미터들을 설정하는 부분입니다.<br>\n",
    "C51이 [Deep Q Network](https://web.stanford.edu/class/psych209/Readings/MnihEtAlHassibis15NatureControlDeepRL.pdf)에 비해 추가되는 파라미터는 support와 관련된 것들입니다.<br>\n",
    "\n",
    "Supports는 각각이 value를 의미합니다. <br>\n",
    "그리고 해당 support가 가지는 값은 해당 support의 값을 받을 확률을 나타냅니다. <br>\n",
    "그리고 이 모든 support와 그 값들의 기대값이 Q값이 됩니다. <br>\n",
    "\n",
    "\n",
    "다음의 3가지 파라미터들을 설정해주어야 합니다.\n",
    "- $N$: Support의 수\n",
    "- $V_{min}$: Support의 최소값\n",
    "- $V_{max}$: Support의 최대값\n",
    "\n",
    "해당 파라미터들에 대한 설명은 다음과 같습니다. <br>\n",
    "\n",
    "<center>\n",
    "    <img src=\"https://github.com/reinforcement-learning-kr/distributional_rl/blob/master/1_CartPole_C51/Images/support_and_prob.png?raw=true\" alt=\"support and probability\" style=\"width:1000px;\"/>\n",
    "</center>\n",
    "\n",
    "이외의 파라미터들에 대한 설명은 다음과 같습니다. "
   ]
  },
  {
   "cell_type": "code",
   "execution_count": 154,
   "metadata": {
    "colab": {
     "base_uri": "https://localhost:8080/",
     "height": 35
    },
    "colab_type": "code",
    "executionInfo": {
     "elapsed": 708,
     "status": "ok",
     "timestamp": 1534482400648,
     "user": {
      "displayName": "윤승제",
      "photoUrl": "//lh5.googleusercontent.com/-EucKC7DmcQI/AAAAAAAAAAI/AAAAAAAAAGA/gQU1NPEmNFA/s50-c-k-no/photo.jpg",
      "userId": "105654037995838004821"
     },
     "user_tz": -540
    },
    "id": "maRVADiTlzHD",
    "outputId": "783b7610-95c2-4b54-b2ce-d8e853c484ba"
   },
   "outputs": [
    {
     "name": "stdout",
     "output_type": "stream",
     "text": [
      "\u001b[33mWARN: gym.spaces.Box autodetected dtype as <class 'numpy.float32'>. Please provide explicit dtype.\u001b[0m\n"
     ]
    }
   ],
   "source": [
    "# 미니배치\n",
    "MINIBATCH_SIZE = 64\n",
    "# 학습 시작할 프레임\n",
    "TRAIN_START = 1000\n",
    "# 타겟 네트워크 갱신\n",
    "TARGET_UPDATE = 25\n",
    "# Replay Memory 크기\n",
    "MEMORY_SIZE = 10000\n",
    "# 학습률\n",
    "LEARNING_RATE = 0.001\n",
    "# discount factor\n",
    "DISCOUNT = 0.9\n",
    "# Support 개수\n",
    "NUM_C = 51\n",
    "# Support 범위\n",
    "V_min, V_max = -10, 10\n",
    "dz = float(V_max - V_min) / (NUM_C - 1)\n",
    "\n",
    "# 환경\n",
    "env = gym.make('CartPole-v0')\n",
    "INPUT = env.observation_space.shape[0]\n",
    "OUTPUT = env.action_space.n"
   ]
  },
  {
   "cell_type": "markdown",
   "metadata": {
    "colab_type": "text",
    "id": "aZ33JMAelzHH"
   },
   "source": [
    "## 3. 네트워크 설정\n",
    "\n",
    "C51 알고리즘은 support들은($z_i$) 고정한 상태로 각 value를 받을 확률을($p_i$) 추정합니다. <br>\n",
    "이때 다음의 그림과 같이 네트워크의 output이 각 support에 대한 값을 추정하고 이 값들을 softmax해주어 확률로 표현합니다.<br>\n",
    "\n",
    "<center>\n",
    "    <img src=\"https://github.com/reinforcement-learning-kr/distributional_rl/blob/master/1_CartPole_C51/Images/network_output.png?raw=true\" alt=\"network output\" style=\"width:800px;\"/>\n",
    "</center>\n",
    "\n",
    "이 distribution은 각 action에 대해서 구해주어야합니다. \n",
    "그렇기 때문에 network의 output의 개수 -> $|A|\\times N$ ($|A|$: Action의 수, $N$: support의 수)\n",
    "\n",
    "DQN과 동일하게 network은 `일반 network`와 `target network` 2가지가 필요합니다. "
   ]
  },
  {
   "cell_type": "markdown",
   "metadata": {
    "colab_type": "text",
    "id": "0wFakuY_lzHI"
   },
   "source": [
    "### 일반 네트워크 구성"
   ]
  },
  {
   "cell_type": "code",
   "execution_count": 0,
   "metadata": {
    "colab": {},
    "colab_type": "code",
    "id": "9Ffkl_5C4R81"
   },
   "outputs": [],
   "source": [
    "def _noisy_dense(X, n_input, n_output, name_layer, trainable):\n",
    "      \n",
    "      W_mu = tf.get_variable(\"W_mu_\" + name_layer, shape=[n_input, n_output],\n",
    "                                   initializer=tf.random_uniform_initializer(-tf.sqrt(3 / n_input), tf.sqrt(3 / n_input)),\n",
    "                                   trainable=trainable)\n",
    "      \n",
    "      W_sig = tf.get_variable(\"W_sig_\" + name_layer, shape=[n_input, n_output],\n",
    "                                    initializer=tf.constant_initializer(0.017), trainable=trainable)\n",
    "      \n",
    "      B_mu = tf.get_variable(\"B_mu_\" + name_layer, shape=[1, n_output],\n",
    "                                   initializer=tf.random_uniform_initializer(-tf.sqrt(3 / n_input),\n",
    "                                                                             tf.sqrt(3 / n_input)),\n",
    "                                   trainable=trainable)\n",
    "      \n",
    "      B_sig = tf.get_variable(\"B_sig_\" + name_layer, shape=[1, n_output],\n",
    "                                    initializer=tf.constant_initializer(0.017), trainable=trainable)\n",
    "      \n",
    "      W_fc = tf.add(W_mu, tf.multiply(W_sig, tf.random_normal(shape=[n_input, n_output])))\n",
    "      \n",
    "      B_fc = tf.add(B_mu, tf.multiply(B_sig, tf.random_normal(shape=[1, n_output])))\n",
    "      \n",
    "      pre_noisy_layer = tf.add(tf.matmul(X, W_fc), B_fc)\n",
    "      \n",
    "      return pre_noisy_layer"
   ]
  },
  {
   "cell_type": "code",
   "execution_count": 0,
   "metadata": {
    "colab": {},
    "colab_type": "code",
    "id": "Zghj1980lzHK"
   },
   "outputs": [],
   "source": [
    "class C51DQNAgent:\n",
    "    def __init__(self, sess, a_dim, s_dim, scope, trainable,\n",
    "                 learning_rate=1e-3,\n",
    "                 gamma=0.99,\n",
    "                 batch_size=64,\n",
    "                 buffer_size=10000,\n",
    "                 num_c=51,\n",
    "                 V_min=-10.,\n",
    "                 V_max=10.\n",
    "                 ):\n",
    "        # 기본 파라메터 설정\n",
    "        self.memory = []\n",
    "        self.iter = 0\n",
    "        self.sess = sess\n",
    "        self.gamma = gamma\n",
    "        self.learning_rate = learning_rate\n",
    "        self.batch_size = int(batch_size)\n",
    "        self.buffer_size = buffer_size\n",
    "        self.num_c = num_c\n",
    "        self.V_min = V_min\n",
    "        self.V_max = V_max\n",
    "        self.dz = float(self.V_max - self.V_min) / (self.num_c - 1)\n",
    "        self.z = [self.V_min + i * self.dz for i in range(self.num_c)]\n",
    "        self.a_dim, self.s_dim, = a_dim, s_dim\n",
    "        self.scope = scope\n",
    "        self.trainable = trainable\n",
    "        \n",
    "        # placeholder 설정\n",
    "        self.S = tf.placeholder(tf.float32, [None, s_dim], 's')\n",
    "        self.A = tf.placeholder(tf.float32, [None, 1], 'a')\n",
    "        self.R = tf.placeholder(tf.float32, [None, 1], 'r')\n",
    "        self.D = tf.placeholder(tf.int32, [None, 1], 'd')\n",
    "        self.M = tf.placeholder(tf.float32, [None, self.num_c], 'm_prob')\n",
    "        \n",
    "        # 네트워크 Build\n",
    "        self.dist_q, self.q_mean = self._build_net(self.S, scope=self.scope, trainable=self.trainable)\n",
    "        \n",
    "        # 학습 파라메터 지정\n",
    "        self.q_params = tf.get_collection(tf.GraphKeys.GLOBAL_VARIABLES, scope=self.scope)\n",
    "        \n",
    "        # 배치 샘플에 해당되는 action indices 만 학습하도록 gathering        \n",
    "        a_indices = tf.stack([tf.range(self.batch_size, dtype=tf.int32), tf.squeeze(tf.to_int32(self.A))], axis=1)\n",
    "        self.dist_q_eval_a = tf.gather_nd(params=self.dist_q, indices=a_indices)\n",
    "        # dist_q_eval_a shape : [batch size, num_c]\n",
    "        \n",
    "        # Argmax(Q')에 해당되는 action indices 만 gathering \n",
    "        a_next_max_indices = tf.stack([tf.range(self.batch_size, dtype=tf.int32),\n",
    "                                       tf.squeeze(tf.to_int32(tf.argmax(self.q_mean, axis=1)))], axis=1)\n",
    "        self.dist_q_next_a = tf.gather_nd(params=self.dist_q, indices=a_next_max_indices)\n",
    "        \n",
    "        # Loss 설정\n",
    "        self.loss = - tf.reduce_mean(tf.reduce_sum(tf.multiply(self.M, tf.log(self.dist_q_eval_a + 1e-20)), axis=1))\n",
    "        \n",
    "        # 옵티마이저 설정\n",
    "        self.train_op = tf.train.AdamOptimizer(self.learning_rate, epsilon=0.01/self.batch_size).minimize(self.loss, var_list=self.q_params)\n",
    "       \n",
    "    \n",
    "    def _build_net(self, s, scope, trainable):\n",
    "      with tf.variable_scope(scope):\n",
    "        net = tf.nn.selu(_noisy_dense(s, self.s_dim, 512, \"layer1\", trainable=trainable))\n",
    "        net = tf.nn.selu(_noisy_dense(net, 512, 128, \"layer2\", trainable=trainable))\n",
    "        q_logits_flat = _noisy_dense(net, 128, self.a_dim * self.num_c, \"layer3\", trainable=trainable)\n",
    "        q_logits_re = tf.reshape(q_logits_flat, [-1, self.a_dim, self.num_c])\n",
    "        dist_q = tf.nn.softmax(q_logits_re, axis=2, name='dist_q')\n",
    "\n",
    "        z_space = tf.tile(tf.reshape(self.z, [1, 1, self.num_c]), [tf.shape(q_logits_re)[0], self.a_dim, 1])\n",
    "        Q_mean = tf.reduce_sum(tf.multiply(z_space, dist_q), axis=2)\n",
    "      \n",
    "      return dist_q, Q_mean\n",
    "        \n",
    "    def choose_action(self, state):\n",
    "      state = state[np.newaxis, :] #state dimension 수정\n",
    "      actions_value = self.sess.run(self.q_mean, feed_dict={self.S: state}) # Q value 계산\n",
    "      action = np.argmax(actions_value) # action(argmax Q) 선택\n",
    "      return action"
   ]
  },
  {
   "cell_type": "code",
   "execution_count": 0,
   "metadata": {
    "colab": {},
    "colab_type": "code",
    "id": "lc8NDj3IwI-u"
   },
   "outputs": [],
   "source": [
    "tf.reset_default_graph()\n",
    "sess = tf.Session()\n",
    "agent = C51DQNAgent(sess, OUTPUT, INPUT, 'eval', True)"
   ]
  },
  {
   "cell_type": "markdown",
   "metadata": {
    "colab_type": "text",
    "id": "EQoXg1xGlzHN"
   },
   "source": [
    "### 타겟 네트워크 구성"
   ]
  },
  {
   "cell_type": "code",
   "execution_count": 0,
   "metadata": {
    "colab": {},
    "colab_type": "code",
    "id": "A7coo15olzHN"
   },
   "outputs": [],
   "source": [
    "agent_target = C51DQNAgent(sess, OUTPUT, INPUT, 'target', False)"
   ]
  },
  {
   "cell_type": "markdown",
   "metadata": {
    "colab_type": "text",
    "id": "vkvaQPtxlzHR"
   },
   "source": [
    "## 4. Loss 설정 및 학습\n",
    "\n",
    " Distributional RL 의 loss는 `target distribution`과 `추정된 distribution 중 실제 취한 action에 대한 distribution`간의 차이입니다. <br>\n",
    "\n",
    " 원래 distributional RL의 수렴성을 확보하기 위해서는 `Wasserstein Distance`를 이용하여 두 distribution의 차이를 결정해주어야 합니다. <br>\n",
    " 하지만 본 논문에서는 `Cross entropy`를 이용하여 두 distribution의 차이를 결정합니다. <br>\n",
    " 이에 따라 C51 논문은 수학적으로 수렴성을 입증하지 못한 논문이라 할 수 있습니다. <br>\n",
    " <center>\n",
    "    <img src=\"https://github.com/reinforcement-learning-kr/distributional_rl/blob/master/1_CartPole_C51/Images/cross_entropy_loss.png?raw=true\" alt=\"Cross entropy loss\" style=\"width:800px;\"/>\n",
    "</center>"
   ]
  },
  {
   "cell_type": "markdown",
   "metadata": {
    "colab_type": "text",
    "id": "1CNiOc1PlzHV"
   },
   "source": [
    "## 5. Session 초기화"
   ]
  },
  {
   "cell_type": "code",
   "execution_count": 0,
   "metadata": {
    "colab": {},
    "colab_type": "code",
    "id": "NProOaxWlzHX"
   },
   "outputs": [],
   "source": [
    "sess.run(tf.global_variables_initializer())"
   ]
  },
  {
   "cell_type": "markdown",
   "metadata": {
    "colab_type": "text",
    "id": "vvX62Af_lzHa"
   },
   "source": [
    "## 6. 함수 설정\n",
    "\n",
    " 이 부분은 알고리즘을 구현하는데 필요한 함수들을 구현해놓은 부분입니다. <br>\n",
    " 각 함수에 대한 간단한 설명은 다음과 같습니다. "
   ]
  },
  {
   "cell_type": "code",
   "execution_count": 0,
   "metadata": {
    "colab": {},
    "colab_type": "code",
    "id": "FFhmC736lzHS"
   },
   "outputs": [],
   "source": [
    "def projection_dist(br, bs_, bd):\n",
    "    m_prob = np.zeros([MINIBATCH_SIZE, NUM_C])\n",
    "\n",
    "    p_next_a = sess.run(agent_target.dist_q_next_a, feed_dict={agent_target.S: bs_})\n",
    "    \n",
    "    for j in range(NUM_C):\n",
    "        Tz = np.fmin(V_max, np.fmax(V_min, br + (1 - bd) * DISCOUNT * (V_min + j * dz)))\n",
    "        bj = (Tz - V_min) / dz\n",
    "        lj = np.floor(bj).astype(int)\n",
    "        uj = np.ceil(bj).astype(int)\n",
    "        blj = bj - lj\n",
    "        buj = uj - bj\n",
    "        m_prob[np.arange(MINIBATCH_SIZE), lj[np.arange(MINIBATCH_SIZE), 0]] += \\\n",
    "            (bd[:, 0] + (1 - bd[:, 0]) * (p_next_a[:, j])) * buj[:, 0]\n",
    "        m_prob[np.arange(MINIBATCH_SIZE), uj[np.arange(MINIBATCH_SIZE), 0]] += \\\n",
    "            (bd[:, 0] + (1 - bd[:, 0]) * (p_next_a[:, j])) * blj[:, 0]\n",
    "\n",
    "    m_prob = m_prob / m_prob.sum(axis=1, keepdims=1)\n",
    "\n",
    "    return m_prob"
   ]
  },
  {
   "cell_type": "code",
   "execution_count": 0,
   "metadata": {
    "colab": {},
    "colab_type": "code",
    "id": "XPTAFm_QlzHb"
   },
   "outputs": [],
   "source": [
    "def update_target_net():\n",
    "  \n",
    "  params_replace = [tf.assign(qt, qe) for qt, qe in zip(agent_target.q_params, agent.q_params)]\n",
    "  \n",
    "  sess.run(params_replace)"
   ]
  },
  {
   "cell_type": "code",
   "execution_count": 0,
   "metadata": {
    "colab": {},
    "colab_type": "code",
    "id": "HAsSistmBuYO"
   },
   "outputs": [],
   "source": [
    "def replay_memory_add(memory_buffer,s,a,r,s_,d):\n",
    "  memory_buffer += [(s,a,r,s_,d)]\n",
    "  if len(memory_buffer) > MEMORY_SIZE:\n",
    "    memory_buffer = memory_buffer[-MEMORY_SIZE:]\n",
    "  \n",
    "  return memory_buffer"
   ]
  },
  {
   "cell_type": "code",
   "execution_count": 0,
   "metadata": {
    "colab": {},
    "colab_type": "code",
    "id": "CWkdKowUD3vM"
   },
   "outputs": [],
   "source": [
    "def learn(memory_buffer):\n",
    "  minibatch = np.vstack(random.sample(memory_buffer, MINIBATCH_SIZE))\n",
    "  bs = np.vstack(minibatch[:, 0])\n",
    "  ba = np.vstack(minibatch[:, 1])\n",
    "  br = np.vstack(minibatch[:, 2])\n",
    "  bs_ = np.vstack(minibatch[:, 3])\n",
    "  bd = np.vstack(minibatch[:, 4])\n",
    "\n",
    "  m_prob = projection_dist(br, bs_, bd)\n",
    "\n",
    "  sess.run(agent.train_op, {agent.S: bs, agent.A: ba, agent.M: m_prob})"
   ]
  },
  {
   "cell_type": "markdown",
   "metadata": {
    "colab_type": "text",
    "id": "DH4VOm3-lzHg"
   },
   "source": [
    "## 7. Main\n",
    "\n",
    " 이 부분은 메인 알고리즘입니다. <br>\n",
    " 진행 순서는 다음과 같습니다. "
   ]
  },
  {
   "cell_type": "code",
   "execution_count": 164,
   "metadata": {
    "colab": {
     "base_uri": "https://localhost:8080/",
     "height": 3377
    },
    "colab_type": "code",
    "executionInfo": {
     "elapsed": 135196,
     "status": "ok",
     "timestamp": 1534482559393,
     "user": {
      "displayName": "윤승제",
      "photoUrl": "//lh5.googleusercontent.com/-EucKC7DmcQI/AAAAAAAAAAI/AAAAAAAAAGA/gQU1NPEmNFA/s50-c-k-no/photo.jpg",
      "userId": "105654037995838004821"
     },
     "user_tz": -540
    },
    "id": "PnifSBJglzHh",
    "outputId": "94177345-918e-4a96-d9a8-d8aba0a4bc9a"
   },
   "outputs": [
    {
     "name": "stdout",
     "output_type": "stream",
     "text": [
      "Episode:1 | Frames:10 | Reward:10.0 |Recent reward:5.0\n",
      "Episode:2 | Frames:20 | Reward:10.0 |Recent reward:6.666666666666667\n",
      "Episode:3 | Frames:29 | Reward:9.0 |Recent reward:7.25\n",
      "Episode:4 | Frames:41 | Reward:12.0 |Recent reward:8.2\n",
      "Episode:5 | Frames:50 | Reward:9.0 |Recent reward:8.333333333333334\n",
      "Episode:6 | Frames:61 | Reward:11.0 |Recent reward:8.714285714285714\n",
      "Episode:7 | Frames:70 | Reward:9.0 |Recent reward:8.75\n",
      "Episode:8 | Frames:79 | Reward:9.0 |Recent reward:8.777777777777779\n",
      "Episode:9 | Frames:89 | Reward:10.0 |Recent reward:8.9\n",
      "Episode:10 | Frames:99 | Reward:10.0 |Recent reward:9.0\n",
      "Episode:11 | Frames:109 | Reward:10.0 |Recent reward:9.083333333333334\n",
      "Episode:12 | Frames:119 | Reward:10.0 |Recent reward:9.153846153846153\n",
      "Episode:13 | Frames:128 | Reward:9.0 |Recent reward:9.142857142857142\n",
      "Episode:14 | Frames:136 | Reward:8.0 |Recent reward:9.066666666666666\n",
      "Episode:15 | Frames:145 | Reward:9.0 |Recent reward:9.666666666666666\n",
      "Episode:16 | Frames:156 | Reward:11.0 |Recent reward:9.733333333333333\n",
      "Episode:17 | Frames:164 | Reward:8.0 |Recent reward:9.6\n",
      "Episode:18 | Frames:174 | Reward:10.0 |Recent reward:9.666666666666666\n",
      "Episode:19 | Frames:183 | Reward:9.0 |Recent reward:9.466666666666667\n",
      "Episode:20 | Frames:193 | Reward:10.0 |Recent reward:9.533333333333333\n",
      "Episode:21 | Frames:203 | Reward:10.0 |Recent reward:9.466666666666667\n",
      "Episode:22 | Frames:213 | Reward:10.0 |Recent reward:9.533333333333333\n",
      "Episode:23 | Frames:223 | Reward:10.0 |Recent reward:9.6\n",
      "Episode:24 | Frames:233 | Reward:10.0 |Recent reward:9.6\n",
      "Episode:25 | Frames:242 | Reward:9.0 |Recent reward:9.533333333333333\n",
      "Episode:26 | Frames:251 | Reward:9.0 |Recent reward:9.466666666666667\n",
      "Episode:27 | Frames:261 | Reward:10.0 |Recent reward:9.466666666666667\n",
      "Episode:28 | Frames:270 | Reward:9.0 |Recent reward:9.466666666666667\n",
      "Episode:29 | Frames:279 | Reward:9.0 |Recent reward:9.533333333333333\n",
      "Episode:30 | Frames:287 | Reward:8.0 |Recent reward:9.466666666666667\n",
      "Episode:31 | Frames:297 | Reward:10.0 |Recent reward:9.4\n",
      "Episode:32 | Frames:307 | Reward:10.0 |Recent reward:9.533333333333333\n",
      "Episode:33 | Frames:316 | Reward:9.0 |Recent reward:9.466666666666667\n",
      "Episode:34 | Frames:324 | Reward:8.0 |Recent reward:9.4\n",
      "Episode:35 | Frames:332 | Reward:8.0 |Recent reward:9.266666666666667\n",
      "Episode:36 | Frames:341 | Reward:9.0 |Recent reward:9.2\n",
      "Episode:37 | Frames:350 | Reward:9.0 |Recent reward:9.133333333333333\n",
      "Episode:38 | Frames:358 | Reward:8.0 |Recent reward:9.0\n",
      "Episode:39 | Frames:367 | Reward:9.0 |Recent reward:8.933333333333334\n",
      "Episode:40 | Frames:377 | Reward:10.0 |Recent reward:9.0\n",
      "Episode:41 | Frames:385 | Reward:8.0 |Recent reward:8.933333333333334\n",
      "Episode:42 | Frames:395 | Reward:10.0 |Recent reward:8.933333333333334\n",
      "Episode:43 | Frames:404 | Reward:9.0 |Recent reward:8.933333333333334\n",
      "Episode:44 | Frames:414 | Reward:10.0 |Recent reward:9.0\n",
      "Episode:45 | Frames:423 | Reward:9.0 |Recent reward:9.066666666666666\n",
      "Episode:46 | Frames:432 | Reward:9.0 |Recent reward:9.0\n",
      "Episode:47 | Frames:442 | Reward:10.0 |Recent reward:9.0\n",
      "Episode:48 | Frames:452 | Reward:10.0 |Recent reward:9.066666666666666\n",
      "Episode:49 | Frames:462 | Reward:10.0 |Recent reward:9.2\n",
      "Episode:50 | Frames:472 | Reward:10.0 |Recent reward:9.333333333333334\n",
      "Episode:51 | Frames:482 | Reward:10.0 |Recent reward:9.4\n",
      "Episode:52 | Frames:492 | Reward:10.0 |Recent reward:9.466666666666667\n",
      "Episode:53 | Frames:502 | Reward:10.0 |Recent reward:9.6\n",
      "Episode:54 | Frames:510 | Reward:8.0 |Recent reward:9.533333333333333\n",
      "Episode:55 | Frames:520 | Reward:10.0 |Recent reward:9.533333333333333\n",
      "Episode:56 | Frames:529 | Reward:9.0 |Recent reward:9.6\n",
      "Episode:57 | Frames:539 | Reward:10.0 |Recent reward:9.6\n",
      "Episode:58 | Frames:549 | Reward:10.0 |Recent reward:9.666666666666666\n",
      "Episode:59 | Frames:558 | Reward:9.0 |Recent reward:9.6\n",
      "Episode:60 | Frames:567 | Reward:9.0 |Recent reward:9.6\n",
      "Episode:61 | Frames:575 | Reward:8.0 |Recent reward:9.533333333333333\n",
      "Episode:62 | Frames:583 | Reward:8.0 |Recent reward:9.4\n",
      "Episode:63 | Frames:591 | Reward:8.0 |Recent reward:9.266666666666667\n",
      "Episode:64 | Frames:600 | Reward:9.0 |Recent reward:9.2\n",
      "Episode:65 | Frames:611 | Reward:11.0 |Recent reward:9.266666666666667\n",
      "Episode:66 | Frames:620 | Reward:9.0 |Recent reward:9.2\n",
      "Episode:67 | Frames:629 | Reward:9.0 |Recent reward:9.133333333333333\n",
      "Episode:68 | Frames:639 | Reward:10.0 |Recent reward:9.133333333333333\n",
      "Episode:69 | Frames:653 | Reward:14.0 |Recent reward:9.533333333333333\n",
      "Episode:70 | Frames:663 | Reward:10.0 |Recent reward:9.533333333333333\n",
      "Episode:71 | Frames:672 | Reward:9.0 |Recent reward:9.533333333333333\n",
      "Episode:72 | Frames:681 | Reward:9.0 |Recent reward:9.466666666666667\n",
      "Episode:73 | Frames:690 | Reward:9.0 |Recent reward:9.4\n",
      "Episode:74 | Frames:699 | Reward:9.0 |Recent reward:9.4\n",
      "Episode:75 | Frames:708 | Reward:9.0 |Recent reward:9.4\n",
      "Episode:76 | Frames:717 | Reward:9.0 |Recent reward:9.466666666666667\n",
      "Episode:77 | Frames:727 | Reward:10.0 |Recent reward:9.6\n",
      "Episode:78 | Frames:735 | Reward:8.0 |Recent reward:9.6\n",
      "Episode:79 | Frames:744 | Reward:9.0 |Recent reward:9.6\n",
      "Episode:80 | Frames:753 | Reward:9.0 |Recent reward:9.466666666666667\n",
      "Episode:81 | Frames:762 | Reward:9.0 |Recent reward:9.466666666666667\n",
      "Episode:82 | Frames:770 | Reward:8.0 |Recent reward:9.4\n",
      "Episode:83 | Frames:779 | Reward:9.0 |Recent reward:9.333333333333334\n",
      "Episode:84 | Frames:789 | Reward:10.0 |Recent reward:9.066666666666666\n",
      "Episode:85 | Frames:799 | Reward:10.0 |Recent reward:9.066666666666666\n",
      "Episode:86 | Frames:809 | Reward:10.0 |Recent reward:9.133333333333333\n",
      "Episode:87 | Frames:819 | Reward:10.0 |Recent reward:9.2\n",
      "Episode:88 | Frames:828 | Reward:9.0 |Recent reward:9.2\n",
      "Episode:89 | Frames:838 | Reward:10.0 |Recent reward:9.266666666666667\n",
      "Episode:90 | Frames:846 | Reward:8.0 |Recent reward:9.2\n",
      "Episode:91 | Frames:854 | Reward:8.0 |Recent reward:9.133333333333333\n",
      "Episode:92 | Frames:864 | Reward:10.0 |Recent reward:9.133333333333333\n",
      "Episode:93 | Frames:874 | Reward:10.0 |Recent reward:9.266666666666667\n",
      "Episode:94 | Frames:883 | Reward:9.0 |Recent reward:9.266666666666667\n",
      "Episode:95 | Frames:893 | Reward:10.0 |Recent reward:9.333333333333334\n",
      "Episode:96 | Frames:902 | Reward:9.0 |Recent reward:9.333333333333334\n",
      "Episode:97 | Frames:911 | Reward:9.0 |Recent reward:9.4\n",
      "Episode:98 | Frames:920 | Reward:9.0 |Recent reward:9.4\n",
      "Episode:99 | Frames:928 | Reward:8.0 |Recent reward:9.266666666666667\n",
      "Episode:100 | Frames:938 | Reward:10.0 |Recent reward:9.266666666666667\n",
      "Episode:101 | Frames:947 | Reward:9.0 |Recent reward:9.2\n",
      "Episode:102 | Frames:956 | Reward:9.0 |Recent reward:9.133333333333333\n",
      "Episode:103 | Frames:965 | Reward:9.0 |Recent reward:9.133333333333333\n",
      "Episode:104 | Frames:975 | Reward:10.0 |Recent reward:9.133333333333333\n",
      "Episode:105 | Frames:988 | Reward:13.0 |Recent reward:9.466666666666667\n",
      "Episode:106 | Frames:998 | Reward:10.0 |Recent reward:9.6\n",
      "Episode:107 | Frames:1009 | Reward:11.0 |Recent reward:9.666666666666666\n",
      "Episode:108 | Frames:1017 | Reward:8.0 |Recent reward:9.533333333333333\n",
      "Episode:109 | Frames:1026 | Reward:9.0 |Recent reward:9.533333333333333\n",
      "Episode:110 | Frames:1035 | Reward:9.0 |Recent reward:9.466666666666667\n",
      "Episode:111 | Frames:1045 | Reward:10.0 |Recent reward:9.533333333333333\n",
      "Episode:112 | Frames:1055 | Reward:10.0 |Recent reward:9.6\n",
      "Episode:113 | Frames:1063 | Reward:8.0 |Recent reward:9.533333333333333\n",
      "Episode:114 | Frames:1073 | Reward:10.0 |Recent reward:9.666666666666666\n",
      "Episode:115 | Frames:1083 | Reward:10.0 |Recent reward:9.666666666666666\n",
      "Episode:116 | Frames:1093 | Reward:10.0 |Recent reward:9.733333333333333\n",
      "Episode:117 | Frames:1102 | Reward:9.0 |Recent reward:9.733333333333333\n",
      "Episode:118 | Frames:1112 | Reward:10.0 |Recent reward:9.8\n",
      "Episode:119 | Frames:1121 | Reward:9.0 |Recent reward:9.733333333333333\n",
      "Episode:120 | Frames:1131 | Reward:10.0 |Recent reward:9.533333333333333\n",
      "Episode:121 | Frames:1141 | Reward:10.0 |Recent reward:9.533333333333333\n",
      "Episode:122 | Frames:1169 | Reward:28.0 |Recent reward:10.666666666666666\n",
      "Episode:123 | Frames:1186 | Reward:17.0 |Recent reward:11.266666666666667\n",
      "Episode:124 | Frames:1233 | Reward:47.0 |Recent reward:13.8\n",
      "Episode:125 | Frames:1255 | Reward:22.0 |Recent reward:14.666666666666666\n",
      "Episode:126 | Frames:1293 | Reward:38.0 |Recent reward:16.533333333333335\n",
      "Episode:127 | Frames:1311 | Reward:18.0 |Recent reward:17.066666666666666\n",
      "Episode:128 | Frames:1323 | Reward:12.0 |Recent reward:17.333333333333332\n",
      "Episode:129 | Frames:1370 | Reward:47.0 |Recent reward:19.8\n",
      "Episode:130 | Frames:1418 | Reward:48.0 |Recent reward:22.333333333333332\n",
      "Episode:131 | Frames:1460 | Reward:42.0 |Recent reward:24.466666666666665\n",
      "Episode:132 | Frames:1516 | Reward:56.0 |Recent reward:27.6\n",
      "Episode:133 | Frames:1559 | Reward:43.0 |Recent reward:29.8\n",
      "Episode:134 | Frames:1602 | Reward:43.0 |Recent reward:32.06666666666667\n",
      "Episode:135 | Frames:1699 | Reward:97.0 |Recent reward:37.86666666666667\n",
      "Episode:136 | Frames:1734 | Reward:35.0 |Recent reward:39.53333333333333\n",
      "Episode:137 | Frames:1796 | Reward:62.0 |Recent reward:41.8\n",
      "Episode:138 | Frames:1807 | Reward:11.0 |Recent reward:41.4\n",
      "Episode:139 | Frames:1817 | Reward:10.0 |Recent reward:38.93333333333333\n",
      "Episode:140 | Frames:1826 | Reward:9.0 |Recent reward:38.06666666666667\n",
      "Episode:141 | Frames:1931 | Reward:105.0 |Recent reward:42.53333333333333\n",
      "Episode:142 | Frames:1983 | Reward:52.0 |Recent reward:44.8\n",
      "Episode:143 | Frames:2006 | Reward:23.0 |Recent reward:45.53333333333333\n",
      "Episode:144 | Frames:2055 | Reward:49.0 |Recent reward:45.666666666666664\n",
      "Episode:145 | Frames:2255 | Reward:200.0 |Recent reward:55.8\n",
      "Episode:146 | Frames:2336 | Reward:81.0 |Recent reward:58.4\n",
      "Episode:147 | Frames:2536 | Reward:200.0 |Recent reward:68.0\n",
      "Episode:148 | Frames:2736 | Reward:200.0 |Recent reward:78.46666666666667\n",
      "Episode:149 | Frames:2936 | Reward:200.0 |Recent reward:88.93333333333334\n",
      "Episode:150 | Frames:3136 | Reward:200.0 |Recent reward:95.8\n",
      "Episode:151 | Frames:3268 | Reward:132.0 |Recent reward:102.26666666666667\n",
      "Episode:152 | Frames:3468 | Reward:200.0 |Recent reward:111.46666666666667\n",
      "Episode:153 | Frames:3627 | Reward:159.0 |Recent reward:121.33333333333333\n",
      "Episode:154 | Frames:3775 | Reward:148.0 |Recent reward:130.53333333333333\n",
      "Episode:155 | Frames:3975 | Reward:200.0 |Recent reward:143.26666666666668\n",
      "Episode:156 | Frames:4175 | Reward:200.0 |Recent reward:149.6\n",
      "Episode:157 | Frames:4375 | Reward:200.0 |Recent reward:159.46666666666667\n",
      "Episode:158 | Frames:4575 | Reward:200.0 |Recent reward:171.26666666666668\n",
      "Episode:159 | Frames:4775 | Reward:200.0 |Recent reward:181.33333333333334\n",
      "Episode:160 | Frames:4975 | Reward:200.0 |Recent reward:181.33333333333334\n",
      "Episode:161 | Frames:5175 | Reward:200.0 |Recent reward:189.26666666666668\n",
      "Episode:162 | Frames:5375 | Reward:200.0 |Recent reward:189.26666666666668\n",
      "Episode:163 | Frames:5575 | Reward:200.0 |Recent reward:189.26666666666668\n",
      "Episode:164 | Frames:5759 | Reward:184.0 |Recent reward:188.2\n",
      "Episode:165 | Frames:5959 | Reward:200.0 |Recent reward:188.2\n",
      "Episode:166 | Frames:6159 | Reward:200.0 |Recent reward:192.73333333333332\n",
      "Episode:167 | Frames:6359 | Reward:200.0 |Recent reward:192.73333333333332\n",
      "Episode:168 | Frames:6559 | Reward:200.0 |Recent reward:195.46666666666667\n",
      "Episode:169 | Frames:6759 | Reward:200.0 |Recent reward:198.93333333333334\n"
     ]
    },
    {
     "data": {
      "image/png": "[encoded data removed]",
      "text/plain": [
       "<matplotlib.figure.Figure at 0x7f6886388f28>"
      ]
     },
     "metadata": {
      "tags": []
     },
     "output_type": "display_data"
    }
   ],
   "source": [
    "all_rewards = []\n",
    "recent_rlist = deque(maxlen=15)\n",
    "recent_rlist.append(0)\n",
    "episode, frame = 0, 0\n",
    "start = timer()\n",
    "memory_buffer = []\n",
    "\n",
    "# Train agent\n",
    "while np.mean(recent_rlist) <= 197:\n",
    "  episode += 1\n",
    "\n",
    "  rall, count = 0, 0\n",
    "  done = False\n",
    "  s = env.reset()\n",
    "\n",
    "  while not done:\n",
    "    frame += 1\n",
    "    count += 1\n",
    "\n",
    "    action = agent.choose_action(s)\n",
    "\n",
    "    s_, r, done, l = env.step(action)\n",
    "\n",
    "    replay_memory_add(memory_buffer, s, action.astype(float), r, s_, int(done))\n",
    "    s = s_\n",
    "\n",
    "    rall += r\n",
    "\n",
    "    if frame > TRAIN_START:\n",
    "      if (frame - TRAIN_START) % TARGET_UPDATE == 0:\n",
    "        update_target_net()\n",
    "      \n",
    "      learn(memory_buffer)\n",
    "      \n",
    "  recent_rlist.append(rall)\n",
    "  all_rewards.append(rall)\n",
    "\n",
    "  print(\"Episode:{} | Frames:{} | Reward:{} |Recent reward:{}\".format(episode, frame, rall,\n",
    "                                                                                np.mean(recent_rlist)))\n",
    "\n",
    "\n",
    "plt.figure(figsize=(15, 5))\n",
    "plt.title('Episode %s. Recent_reward: %s. Time: %s' % (\n",
    "            len(all_rewards), np.mean(recent_rlist), timedelta(seconds=int(timer() - start))))\n",
    "plt.plot(all_rewards)\n",
    "plt.show()"
   ]
  }
 ],
 "metadata": {
  "colab": {
   "collapsed_sections": [],
   "name": "C51_tensorflow.ipynb",
   "provenance": [],
   "version": "0.3.2"
  },
  "kernelspec": {
   "display_name": "Python 3",
   "language": "python",
   "name": "python3"
  },
  "language_info": {
   "codemirror_mode": {
    "name": "ipython",
    "version": 3
   },
   "file_extension": ".py",
   "mimetype": "text/x-python",
   "name": "python",
   "nbconvert_exporter": "python",
   "pygments_lexer": "ipython3",
   "version": "3.6.5"
  }
 },
 "nbformat": 4,
 "nbformat_minor": 1
}
