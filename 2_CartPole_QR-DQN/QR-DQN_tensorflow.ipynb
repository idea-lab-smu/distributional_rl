{
 "cells": [
  {
   "cell_type": "markdown",
   "metadata": {},
   "source": [
    "# Distributional Reinforcement Learning with Quantile Regression\n",
    "\n",
    " 이 jupyter notebook은 논문 [Distributional Reinforcement Learning with Quantile Regression](https://arxiv.org/abs/1710.10044)의 알고리즘 (QR-DQN)을 gym의 Cartpole 환경에서 구현한 notebook 입니다. 본 notebook의 경우 알고리즘의 구현에 관련된 설명 위주로 할 예정입니다. 논문의 이론에 대한 더 자세한 내용은 readme를 참고해주세요!!"
   ]
  },
  {
   "cell_type": "markdown",
   "metadata": {},
   "source": [
    "## 1. 라이브러리 불러오기\n",
    "\n",
    "본 알고리즘의 구현을 위한 라이브러리들을 불러오는 부분입니다. "
   ]
  },
  {
   "cell_type": "code",
   "execution_count": null,
   "metadata": {},
   "outputs": [],
   "source": []
  },
  {
   "cell_type": "markdown",
   "metadata": {},
   "source": [
    "## 2. 파라미터 설정\n",
    "\n",
    "알고리즘의 구현을 위한 파라미터들을 설정하는 부분입니다.<br>\n",
    "C51이 각 supports에 대한 확률을 구하는 알고리즘이었다면 QR-DQN의 경우 각 확률에 대한 supports를 추정합니다. <br>\n",
    "\n",
    "QR-DQN의 경우 C51의 reprojection 과정이 없으며 supports의 범위를 정해줄 필요도 없습니다. <br>\n",
    "QR-DQN에서는 추정할 supports의 수만 정해주면 됩니다. <br>\n",
    "\n",
    "이외의 파라미터들에 대한 설명은 다음과 같습니다. "
   ]
  },
  {
   "cell_type": "code",
   "execution_count": null,
   "metadata": {},
   "outputs": [],
   "source": []
  },
  {
   "cell_type": "markdown",
   "metadata": {},
   "source": [
    "## 3. 네트워크 설정\n",
    "\n",
    "C51 알고리즘은 각 value에 대한 확률들은($\\tau_i$) 고정한 상태로 각 확률에 대한 supports를($\\theta_i$) 추정합니다. <br>\n",
    "이때 다음의 그림과 같이 네트워크의 output이 각 support에 대한 값 자체를 추정합니다.<br>\n",
    "\n",
    "<center>\n",
    "    <img src=\"https://github.com/reinforcement-learning-kr/distributional_rl/blob/master/1_CartPole_C51/Images/network_output.png?raw=true\" alt=\"network output\" style=\"width:800px;\"/>\n",
    "</center>\n",
    "\n",
    "이 distribution은 각 action에 대해서 구해주어야합니다. \n",
    "그렇기 때문에 network의 output의 개수 -> $|A|\\times N$ ($|A|$: Action의 수, $N$: support의 수)\n",
    "\n",
    "DQN과 동일하게 network는 `일반 network`와 `target network` 2가지가 필요합니다. "
   ]
  },
  {
   "cell_type": "markdown",
   "metadata": {},
   "source": [
    "### 일반 네트워크 구성"
   ]
  },
  {
   "cell_type": "code",
   "execution_count": null,
   "metadata": {},
   "outputs": [],
   "source": []
  },
  {
   "cell_type": "markdown",
   "metadata": {},
   "source": [
    "### 타겟 네트워크 구성"
   ]
  },
  {
   "cell_type": "code",
   "execution_count": null,
   "metadata": {},
   "outputs": [],
   "source": []
  },
  {
   "cell_type": "markdown",
   "metadata": {},
   "source": [
    "## 4. Loss 설정 및 학습\n",
    "\n",
    "Distributional RL 의 loss는 `target distribution`과 `추정된 distribution 중 실제 취한 action에 대한 distribution`간의 차이입니다. <br>\n",
    "\n",
    "원래 distributional RL의 수렴성을 확보하기 위해서는 `Wasserstein Distance`를 이용하여 두 distribution의 차이를 결정해주어야 합니다. <br>\n",
    "하지만 C51의 경우에는 `Cross entropy`를 이용하여 두 distribution의 차이를 결정합니다. <br>\n",
    "이에 따라 C51 알고리즘의 경우 수학적으로 수렴성을 증명하지 못한 논문이라 할 수 있습니다. <br>\n",
    " \n",
    "QR-DQN의 경우 Quantile regression을 이용한 distribution 추정으로 인해 학습이 진행됨에 따라 Wasserstein distance를 감소시킬 수 있게 되었습니다. <br>\n",
    "이에 따라 QR-DQN은 수학적으로 distributional RL의 수렴성을 증명한 알고리즘이라 할 수 있습니다. <br>\n",
    " \n",
    "QR-DQN의 경우 `Quantile Huber Loss`라는 loss를 이용하여 training을 수행합니다. <br>\n",
    "Quantile Huber Loss의 경우 다음의 두가지 loss를 결합한 형태입니다. \n",
    "\n",
    "- Quantile Regression Loss:\n",
    "- Huber Loss:\n",
    " \n",
    "이에 따라 이 둘을 결합한 Quantile Huber Loss의 식은 다음과 같습니다. \n",
    " "
   ]
  },
  {
   "cell_type": "code",
   "execution_count": null,
   "metadata": {},
   "outputs": [],
   "source": []
  },
  {
   "cell_type": "markdown",
   "metadata": {},
   "source": [
    "## 5. Session 초기화"
   ]
  },
  {
   "cell_type": "code",
   "execution_count": null,
   "metadata": {},
   "outputs": [],
   "source": []
  },
  {
   "cell_type": "markdown",
   "metadata": {},
   "source": [
    "## 6. 함수 설정\n",
    "\n",
    " 이 부분은 알고리즘을 구현하는데 필요한 함수들을 구현해놓은 부분입니다. <br>\n",
    " 각 함수에 대한 간단한 설명은 다음과 같습니다. "
   ]
  },
  {
   "cell_type": "code",
   "execution_count": null,
   "metadata": {},
   "outputs": [],
   "source": []
  },
  {
   "cell_type": "markdown",
   "metadata": {},
   "source": [
    "## 7. Main\n",
    "\n",
    " 이 부분은 메인 알고리즘입니다. <br>\n",
    " 진행 순서는 다음과 같습니다. "
   ]
  },
  {
   "cell_type": "code",
   "execution_count": null,
   "metadata": {},
   "outputs": [],
   "source": []
  }
 ],
 "metadata": {
  "kernelspec": {
   "display_name": "Python 3",
   "language": "python",
   "name": "python3"
  },
  "language_info": {
   "codemirror_mode": {
    "name": "ipython",
    "version": 3
   },
   "file_extension": ".py",
   "mimetype": "text/x-python",
   "name": "python",
   "nbconvert_exporter": "python",
   "pygments_lexer": "ipython3",
   "version": "3.6.5"
  }
 },
 "nbformat": 4,
 "nbformat_minor": 2
}
